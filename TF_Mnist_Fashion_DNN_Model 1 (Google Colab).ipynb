{
  "nbformat": 4,
  "nbformat_minor": 0,
  "metadata": {
    "colab": {
      "name": "TensorFlow_MNIST_DNN.ipynb",
      "provenance": [],
      "collapsed_sections": [],
      "toc_visible": true
    },
    "kernelspec": {
      "name": "python3",
      "display_name": "Python 3"
    },
    "accelerator": "GPU"
  },
  "cells": [
    {
      "cell_type": "code",
      "metadata": {
        "id": "uklHvpl1Q-IT",
        "colab_type": "code",
        "colab": {}
      },
      "source": [
        "import numpy as np\n",
        "import tensorflow as tf\n",
        "import os"
      ],
      "execution_count": 0,
      "outputs": []
    },
    {
      "cell_type": "code",
      "metadata": {
        "id": "lO9VtvSjTUKc",
        "colab_type": "code",
        "outputId": "1ef807b4-239b-45b0-d87c-7c98952c700e",
        "colab": {
          "base_uri": "https://localhost:8080/",
          "height": 35
        }
      },
      "source": [
        "!pip install tensorboardcolab"
      ],
      "execution_count": 2,
      "outputs": [
        {
          "output_type": "stream",
          "text": [
            "Requirement already satisfied: tensorboardcolab in /usr/local/lib/python3.6/dist-packages (0.0.22)\n"
          ],
          "name": "stdout"
        }
      ]
    },
    {
      "cell_type": "code",
      "metadata": {
        "id": "WAxl_N6cTmJI",
        "colab_type": "code",
        "outputId": "20d8ba8d-2e02-4514-8b9a-567af8af3b80",
        "colab": {
          "base_uri": "https://localhost:8080/",
          "height": 87
        }
      },
      "source": [
        "from tensorboardcolab import TensorBoardColab, TensorBoardColabCallback\n",
        "\n",
        "tbc=TensorBoardColab()"
      ],
      "execution_count": 3,
      "outputs": [
        {
          "output_type": "stream",
          "text": [
            "Using TensorFlow backend.\n"
          ],
          "name": "stderr"
        },
        {
          "output_type": "stream",
          "text": [
            "Wait for 8 seconds...\n",
            "TensorBoard link:\n",
            "https://59e0ce5b.ngrok.io\n"
          ],
          "name": "stdout"
        }
      ]
    },
    {
      "cell_type": "markdown",
      "metadata": {
        "id": "lxbsm3B1T7IW",
        "colab_type": "text"
      },
      "source": [
        "## **Get and inpect data**"
      ]
    },
    {
      "cell_type": "code",
      "metadata": {
        "id": "LwgsoFboT-Y1",
        "colab_type": "code",
        "outputId": "15fe28d5-4cd3-4bac-f5c0-f53211685079",
        "colab": {
          "base_uri": "https://localhost:8080/",
          "height": 87
        }
      },
      "source": [
        "from tensorflow.examples.tutorials.mnist import input_data\n",
        "mnist_fashion = input_data.read_data_sets(\"/notebooks/data/fashion_mnist/\", one_hot=True)"
      ],
      "execution_count": 18,
      "outputs": [
        {
          "output_type": "stream",
          "text": [
            "Extracting /notebooks/data/fashion_mnist/train-images-idx3-ubyte.gz\n",
            "Extracting /notebooks/data/fashion_mnist/train-labels-idx1-ubyte.gz\n",
            "Extracting /notebooks/data/fashion_mnist/t10k-images-idx3-ubyte.gz\n",
            "Extracting /notebooks/data/fashion_mnist/t10k-labels-idx1-ubyte.gz\n"
          ],
          "name": "stdout"
        }
      ]
    },
    {
      "cell_type": "code",
      "metadata": {
        "id": "d6OPGJ5sUHrB",
        "colab_type": "code",
        "outputId": "07ccf2a0-d161-4d3b-e09d-6c8d8ac34fc2",
        "colab": {
          "base_uri": "https://localhost:8080/",
          "height": 87
        }
      },
      "source": [
        "print(mnist_fashion.validation.labels[:1])\n",
        "print('Training set', mnist_fashion.train.images.shape, mnist_fashion.train.labels.shape)\n",
        "print('Validation set', mnist_fashion.validation.images.shape, mnist_fashion.validation.labels.shape)\n",
        "print('Test set', mnist_fashion.test.images.shape, mnist_fashion.test.labels.shape)"
      ],
      "execution_count": 19,
      "outputs": [
        {
          "output_type": "stream",
          "text": [
            "[[0. 0. 0. 0. 0. 1. 0. 0. 0. 0.]]\n",
            "Training set (55000, 784) (55000, 10)\n",
            "Validation set (5000, 784) (5000, 10)\n",
            "Test set (10000, 784) (10000, 10)\n"
          ],
          "name": "stdout"
        }
      ]
    },
    {
      "cell_type": "markdown",
      "metadata": {
        "id": "fkmje9ThUWVJ",
        "colab_type": "text"
      },
      "source": [
        "## **Define the neural network layers**"
      ]
    },
    {
      "cell_type": "code",
      "metadata": {
        "id": "XhoZZS0EUZW5",
        "colab_type": "code",
        "colab": {}
      },
      "source": [
        "def hidden(data, in_dims, out_dims, name):\n",
        "    with tf.name_scope(name):\n",
        "        w = tf.Variable(tf.truncated_normal([in_dims, out_dims], stddev=0.01), name=\"W\")\n",
        "        #w = tf.Variable(tf.zeros([in_dims, out_dims]), name=\"W\")\n",
        "        b = tf.Variable(tf.zeros([out_dims]), name=\"B\")\n",
        "        out = tf.matmul(data, w) + b\n",
        "        act = tf.nn.relu(out)\n",
        "        return act"
      ],
      "execution_count": 0,
      "outputs": []
    },
    {
      "cell_type": "code",
      "metadata": {
        "id": "5C--1sR2Ul_X",
        "colab_type": "code",
        "colab": {}
      },
      "source": [
        "def out_layer(data, in_dims, out_dims, name):\n",
        "    with tf.name_scope(name):\n",
        "        w = tf.Variable(tf.truncated_normal([in_dims, out_dims], stddev=0.01), name=\"W\")\n",
        "        #w = tf.Variable(tf.zeros([in_dims, out_dims]), name=\"W\")\n",
        "        b = tf.Variable(tf.zeros(out_dims))\n",
        "        out = tf.matmul(data, w) + b\n",
        "        return out"
      ],
      "execution_count": 0,
      "outputs": []
    },
    {
      "cell_type": "markdown",
      "metadata": {
        "id": "2sUVnLq9Ut_s",
        "colab_type": "text"
      },
      "source": [
        "## **Define the hyperparameters**"
      ]
    },
    {
      "cell_type": "code",
      "metadata": {
        "id": "v7qZLVAyUwxd",
        "colab_type": "code",
        "colab": {}
      },
      "source": [
        "batch_size = 50\n",
        "num_of_epochs = 4\n",
        "image_size = 28\n",
        "num_labels = 10\n",
        "#log_dir = '/notebooks/data/demo/'\n",
        "lr = 1e-2"
      ],
      "execution_count": 0,
      "outputs": []
    },
    {
      "cell_type": "markdown",
      "metadata": {
        "id": "Zt1naoiHVM-U",
        "colab_type": "text"
      },
      "source": [
        "## **give a name to the run**"
      ]
    },
    {
      "cell_type": "code",
      "metadata": {
        "id": "QtQXPS7DVP6G",
        "colab_type": "code",
        "colab": {}
      },
      "source": [
        "run_name = 'run-demo-1-lr-' + str(lr) + '-b' + str(batch_size) + 'h_' + 'L-100-150-50-25'"
      ],
      "execution_count": 0,
      "outputs": []
    },
    {
      "cell_type": "markdown",
      "metadata": {
        "id": "Lbcl8doBVY0d",
        "colab_type": "text"
      },
      "source": [
        "## **Reset the graph**"
      ]
    },
    {
      "cell_type": "code",
      "metadata": {
        "id": "3vRfqh05VfHD",
        "colab_type": "code",
        "colab": {}
      },
      "source": [
        "tf.reset_default_graph()"
      ],
      "execution_count": 0,
      "outputs": []
    },
    {
      "cell_type": "markdown",
      "metadata": {
        "id": "qUPUqvDzVqYR",
        "colab_type": "text"
      },
      "source": [
        "## **Define inputs**"
      ]
    },
    {
      "cell_type": "code",
      "metadata": {
        "id": "SnBuomEsVtKt",
        "colab_type": "code",
        "outputId": "94e378fe-acb0-42ae-decb-efcd1b6a0a47",
        "colab": {
          "base_uri": "https://localhost:8080/",
          "height": 35
        }
      },
      "source": [
        "x = tf.placeholder(tf.float32, shape=[None, image_size * image_size], name=\"X\")\n",
        "y_label = tf.placeholder(tf.float32, shape=[None, num_labels], name=\"Y_label\")\n",
        "\n",
        "image_shaped_input = tf.reshape(x, [-1, image_size, image_size, 1])\n",
        "tf.summary.image('input', image_shaped_input, 10)"
      ],
      "execution_count": 25,
      "outputs": [
        {
          "output_type": "execute_result",
          "data": {
            "text/plain": [
              "<tf.Tensor 'input:0' shape=() dtype=string>"
            ]
          },
          "metadata": {
            "tags": []
          },
          "execution_count": 25
        }
      ]
    },
    {
      "cell_type": "markdown",
      "metadata": {
        "id": "-VEtqwbnV27F",
        "colab_type": "text"
      },
      "source": [
        "## **Define the network**"
      ]
    },
    {
      "cell_type": "code",
      "metadata": {
        "id": "TFEH-N3rV6Np",
        "colab_type": "code",
        "colab": {}
      },
      "source": [
        "hidden1 = hidden(x, image_size * image_size, 100, \"hidden1\")\n",
        "hidden2 = hidden(hidden1, 100, 150, \"hidden2\")\n",
        "hidden3 = hidden(hidden2, 150, 50, \"hidden3\")\n",
        "hidden4 = hidden(hidden3, 50, 25, \"hidden4\")\n",
        "pred = out_layer(hidden4, 25, num_labels, \"pred\")"
      ],
      "execution_count": 0,
      "outputs": []
    },
    {
      "cell_type": "markdown",
      "metadata": {
        "id": "Cs2cvZqzWO01",
        "colab_type": "text"
      },
      "source": [
        "## **Define the operations**"
      ]
    },
    {
      "cell_type": "code",
      "metadata": {
        "id": "LiePSHUEWR0y",
        "colab_type": "code",
        "outputId": "f5a6d347-8017-47ef-ba29-1a1e83fea021",
        "colab": {
          "base_uri": "https://localhost:8080/",
          "height": 35
        }
      },
      "source": [
        "with tf.name_scope(\"xent\"):\n",
        "    cost = tf.reduce_mean(tf.nn.softmax_cross_entropy_with_logits(logits=pred, labels=y_label))\n",
        "with tf.name_scope(\"accuracy\"):\n",
        "    correct = tf.equal(tf.argmax(pred, 1), tf.argmax(y_label, 1))\n",
        "    accuracy = tf.reduce_mean(tf.cast(correct, tf.float32))\n",
        "tf.summary.scalar('acc', accuracy)\n",
        "tf.summary.scalar('loss', cost)"
      ],
      "execution_count": 27,
      "outputs": [
        {
          "output_type": "execute_result",
          "data": {
            "text/plain": [
              "<tf.Tensor 'loss:0' shape=() dtype=string>"
            ]
          },
          "metadata": {
            "tags": []
          },
          "execution_count": 27
        }
      ]
    },
    {
      "cell_type": "code",
      "metadata": {
        "id": "JoNlEdawWf8U",
        "colab_type": "code",
        "colab": {}
      },
      "source": [
        "with tf.name_scope(\"train\"):\n",
        "    train_step = tf.train.AdamOptimizer(lr).minimize(cost)"
      ],
      "execution_count": 0,
      "outputs": []
    },
    {
      "cell_type": "markdown",
      "metadata": {
        "id": "QtfHBvP3Wrsy",
        "colab_type": "text"
      },
      "source": [
        "## **Start a tensorflow session**"
      ]
    },
    {
      "cell_type": "code",
      "metadata": {
        "id": "q6M6ktvlWuJV",
        "colab_type": "code",
        "colab": {}
      },
      "source": [
        "sess = tf.Session()\n",
        "sess.run(tf.global_variables_initializer())"
      ],
      "execution_count": 0,
      "outputs": []
    },
    {
      "cell_type": "markdown",
      "metadata": {
        "id": "-RVT8CTyW4hx",
        "colab_type": "text"
      },
      "source": [
        "## **Setup the tensorboard parameters**"
      ]
    },
    {
      "cell_type": "code",
      "metadata": {
        "id": "Riy1A1vwW7fr",
        "colab_type": "code",
        "colab": {}
      },
      "source": [
        "summ = tf.summary.merge_all()\n",
        "train_writer = tbc.get_writer()\n",
        "#train_writer = tf.summary.FileWriter(log_dir + 'train/' + run_name)\n",
        "train_writer.add_graph(sess.graph)"
      ],
      "execution_count": 0,
      "outputs": []
    },
    {
      "cell_type": "markdown",
      "metadata": {
        "id": "zM6HbVhdX4eb",
        "colab_type": "text"
      },
      "source": [
        "## **Train the model**"
      ]
    },
    {
      "cell_type": "code",
      "metadata": {
        "id": "-j9M0ePhXSKZ",
        "colab_type": "code",
        "outputId": "3eb3bcd0-7296-4720-921c-19e6d0c509af",
        "colab": {
          "base_uri": "https://localhost:8080/",
          "height": 173
        }
      },
      "source": [
        "total_train_indexes = len(mnist_fashion.train.images)\n",
        "for epoch in range(num_of_epochs):\n",
        "    i = 0\n",
        "    epoch_loss = 0\n",
        "    while i < total_train_indexes:\n",
        "        start = i\n",
        "        end = i + batch_size\n",
        "\n",
        "        if end > total_train_indexes:\n",
        "            end = total_train_indexes\n",
        "\n",
        "        batch_dataset = mnist_fashion.train.images[start:end]\n",
        "        batch_labels = mnist_fashion.train.labels[start:end]\n",
        "\n",
        "        input_dict = {x: batch_dataset, y_label: batch_labels}\n",
        "        _, epoch_accuracy, loss, s = sess.run([train_step, accuracy, cost, summ], feed_dict=input_dict)\n",
        "        epoch_loss += loss\n",
        "        train_writer.add_summary(s, i + total_train_indexes * epoch)\n",
        "        i += batch_size\n",
        "    valid_accuracy, valid_loss = sess.run([accuracy, cost], \n",
        "                                                   feed_dict={x: mnist_fashion.validation.images, \n",
        "                                                              y_label: mnist_fashion.validation.labels})  \n",
        "    \n",
        "    print('Epoch', epoch + 1, 'completed out of',num_of_epochs,'train_loss:',epoch_loss, 'train_accuracy:', epoch_accuracy)\n",
        "    print('Epoch', epoch + 1, 'completed out of',num_of_epochs,'valid_loss:',valid_loss, 'valid_accuracy:', valid_accuracy)\n",
        "    \n",
        "test_accuracy, test_loss = sess.run([accuracy, cost], feed_dict={x: mnist_fashion.test.images, y_label: mnist_fashion.test.labels})\n",
        "\n",
        "print(\"Test accuracy:\", test_accuracy, \"Test loss:\", test_loss)"
      ],
      "execution_count": 31,
      "outputs": [
        {
          "output_type": "stream",
          "text": [
            "Epoch 1 completed out of 4 train_loss: 821.7053517401218 train_accuracy: 0.98\n",
            "Epoch 1 completed out of 4 valid_loss: 0.2857832 valid_accuracy: 0.933\n",
            "Epoch 2 completed out of 4 train_loss: 274.3528290449176 train_accuracy: 1.0\n",
            "Epoch 2 completed out of 4 valid_loss: 0.3435107 valid_accuracy: 0.9304\n",
            "Epoch 3 completed out of 4 train_loss: 220.0991179915145 train_accuracy: 0.98\n",
            "Epoch 3 completed out of 4 valid_loss: 0.3064746 valid_accuracy: 0.941\n",
            "Epoch 4 completed out of 4 train_loss: 205.28548896685243 train_accuracy: 1.0\n",
            "Epoch 4 completed out of 4 valid_loss: 0.28182784 valid_accuracy: 0.9408\n",
            "Test accuracy: 0.9437 Test loss: 0.25752515\n"
          ],
          "name": "stdout"
        }
      ]
    }
  ]
}