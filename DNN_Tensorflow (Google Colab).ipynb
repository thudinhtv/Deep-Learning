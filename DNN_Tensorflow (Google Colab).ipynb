{
  "nbformat": 4,
  "nbformat_minor": 0,
  "metadata": {
    "colab": {
      "name": "TF_MNIST_Fashion_DNN.ipynb",
      "provenance": [],
      "collapsed_sections": [],
      "toc_visible": true
    },
    "kernelspec": {
      "name": "python3",
      "display_name": "Python 3"
    },
    "accelerator": "GPU"
  },
  "cells": [
    {
      "cell_type": "code",
      "metadata": {
        "id": "uklHvpl1Q-IT",
        "colab_type": "code",
        "colab": {}
      },
      "source": [
        "import numpy as np\n",
        "import tensorflow as tf\n",
        "import os"
      ],
      "execution_count": 0,
      "outputs": []
    },
    {
      "cell_type": "code",
      "metadata": {
        "id": "lO9VtvSjTUKc",
        "colab_type": "code",
        "outputId": "30885474-e7d3-45f3-c54c-fd5fa686b449",
        "colab": {
          "base_uri": "https://localhost:8080/",
          "height": 34
        }
      },
      "source": [
        "!pip install tensorboardcolab"
      ],
      "execution_count": 0,
      "outputs": [
        {
          "output_type": "stream",
          "text": [
            "Requirement already satisfied: tensorboardcolab in /usr/local/lib/python3.6/dist-packages (0.0.22)\n"
          ],
          "name": "stdout"
        }
      ]
    },
    {
      "cell_type": "code",
      "metadata": {
        "id": "WAxl_N6cTmJI",
        "colab_type": "code",
        "outputId": "67c84a6f-f13b-4e7d-d98d-348fe32d5ce8",
        "colab": {
          "base_uri": "https://localhost:8080/",
          "height": 87
        }
      },
      "source": [
        "from tensorboardcolab import TensorBoardColab, TensorBoardColabCallback\n",
        "\n",
        "tbc=TensorBoardColab()"
      ],
      "execution_count": 0,
      "outputs": [
        {
          "output_type": "stream",
          "text": [
            "Using TensorFlow backend.\n"
          ],
          "name": "stderr"
        },
        {
          "output_type": "stream",
          "text": [
            "Wait for 8 seconds...\n",
            "TensorBoard link:\n",
            "http://32a58197.ngrok.io\n"
          ],
          "name": "stdout"
        }
      ]
    },
    {
      "cell_type": "markdown",
      "metadata": {
        "id": "lxbsm3B1T7IW",
        "colab_type": "text"
      },
      "source": [
        "## **Get and inpect data**"
      ]
    },
    {
      "cell_type": "code",
      "metadata": {
        "id": "LwgsoFboT-Y1",
        "colab_type": "code",
        "colab": {}
      },
      "source": [
        "(x_train, y_train), (x_test, y_test) = tf.keras.datasets.fashion_mnist.load_data()\n",
        "x_train = x_train.astype('float32') / 255\n",
        "x_test = x_test.astype('float32') / 255\n",
        "x_train = x_train.reshape((x_train.shape[0], 28*28))\n",
        "x_test = x_test.reshape((x_test.shape[0], 28*28))\n",
        "y_train = tf.keras.utils.to_categorical(y_train, 10)\n",
        "y_test = tf.keras.utils.to_categorical(y_test, 10)\n"
      ],
      "execution_count": 0,
      "outputs": []
    },
    {
      "cell_type": "code",
      "metadata": {
        "id": "d6OPGJ5sUHrB",
        "colab_type": "code",
        "outputId": "eee62045-538b-4553-e969-1a4f8ce4d10b",
        "colab": {
          "base_uri": "https://localhost:8080/",
          "height": 70
        }
      },
      "source": [
        "print(y_test[:1])\n",
        "print('Training set', x_train.shape, y_train.shape)\n",
        "print('Test set', x_test.shape, y_test.shape)"
      ],
      "execution_count": 100,
      "outputs": [
        {
          "output_type": "stream",
          "text": [
            "[[0. 0. 0. 0. 0. 0. 0. 0. 0. 1.]]\n",
            "Training set (60000, 784) (60000, 10)\n",
            "Test set (10000, 784) (10000, 10)\n"
          ],
          "name": "stdout"
        }
      ]
    },
    {
      "cell_type": "markdown",
      "metadata": {
        "id": "fkmje9ThUWVJ",
        "colab_type": "text"
      },
      "source": [
        "## **Define the neural network layers**"
      ]
    },
    {
      "cell_type": "code",
      "metadata": {
        "id": "XhoZZS0EUZW5",
        "colab_type": "code",
        "colab": {}
      },
      "source": [
        "def hidden(data, in_dims, out_dims, name):\n",
        "    with tf.name_scope(name):\n",
        "        w = tf.Variable(tf.truncated_normal([in_dims, out_dims], stddev=0.01), name=\"W\")\n",
        "        #w = tf.Variable(tf.zeros([in_dims, out_dims]), name=\"W\")\n",
        "        b = tf.Variable(tf.zeros([out_dims]), name=\"B\")\n",
        "        out = tf.matmul(data, w) + b\n",
        "        act = tf.nn.relu(out)\n",
        "        return act"
      ],
      "execution_count": 0,
      "outputs": []
    },
    {
      "cell_type": "code",
      "metadata": {
        "id": "5C--1sR2Ul_X",
        "colab_type": "code",
        "colab": {}
      },
      "source": [
        "def out_layer(data, in_dims, out_dims, name):\n",
        "    with tf.name_scope(name):\n",
        "        w = tf.Variable(tf.truncated_normal([in_dims, out_dims], stddev=0.01), name=\"W\")\n",
        "        #w = tf.Variable(tf.zeros([in_dims, out_dims]), name=\"W\")\n",
        "        b = tf.Variable(tf.zeros(out_dims))\n",
        "        out = tf.matmul(data, w) + b\n",
        "        return out"
      ],
      "execution_count": 0,
      "outputs": []
    },
    {
      "cell_type": "markdown",
      "metadata": {
        "id": "2sUVnLq9Ut_s",
        "colab_type": "text"
      },
      "source": [
        "## **Define the hyperparameters**"
      ]
    },
    {
      "cell_type": "code",
      "metadata": {
        "id": "v7qZLVAyUwxd",
        "colab_type": "code",
        "colab": {}
      },
      "source": [
        "batch_size = 50\n",
        "num_of_epochs = 4\n",
        "image_size = 28\n",
        "num_labels = 10\n",
        "#log_dir = '/notebooks/data/demo/'\n",
        "lr = 1e-2"
      ],
      "execution_count": 0,
      "outputs": []
    },
    {
      "cell_type": "markdown",
      "metadata": {
        "id": "Zt1naoiHVM-U",
        "colab_type": "text"
      },
      "source": [
        "## **give a name to the run**"
      ]
    },
    {
      "cell_type": "code",
      "metadata": {
        "id": "QtQXPS7DVP6G",
        "colab_type": "code",
        "colab": {}
      },
      "source": [
        "run_name = 'run-demo-1-lr-' + str(lr) + '-b' + str(batch_size) + 'h_' + 'L-100-150-50-25'"
      ],
      "execution_count": 0,
      "outputs": []
    },
    {
      "cell_type": "markdown",
      "metadata": {
        "id": "Lbcl8doBVY0d",
        "colab_type": "text"
      },
      "source": [
        "## **Reset the graph**"
      ]
    },
    {
      "cell_type": "code",
      "metadata": {
        "id": "3vRfqh05VfHD",
        "colab_type": "code",
        "colab": {}
      },
      "source": [
        "tf.reset_default_graph()"
      ],
      "execution_count": 0,
      "outputs": []
    },
    {
      "cell_type": "markdown",
      "metadata": {
        "id": "qUPUqvDzVqYR",
        "colab_type": "text"
      },
      "source": [
        "## **Define inputs**"
      ]
    },
    {
      "cell_type": "code",
      "metadata": {
        "id": "SnBuomEsVtKt",
        "colab_type": "code",
        "outputId": "ffeeb69f-5911-46f1-a311-83b4861935db",
        "colab": {
          "base_uri": "https://localhost:8080/",
          "height": 34
        }
      },
      "source": [
        "x = tf.placeholder(tf.float32, shape=[None, image_size * image_size], name=\"X\")\n",
        "y_label = tf.placeholder(tf.float32, shape=[None, num_labels], name=\"Y_label\")\n",
        "\n",
        "image_shaped_input = tf.reshape(x, [-1, image_size, image_size, 1])\n",
        "tf.summary.image('input', image_shaped_input, 10)"
      ],
      "execution_count": 106,
      "outputs": [
        {
          "output_type": "execute_result",
          "data": {
            "text/plain": [
              "<tf.Tensor 'input:0' shape=() dtype=string>"
            ]
          },
          "metadata": {
            "tags": []
          },
          "execution_count": 106
        }
      ]
    },
    {
      "cell_type": "markdown",
      "metadata": {
        "id": "-VEtqwbnV27F",
        "colab_type": "text"
      },
      "source": [
        "## **Define the network**"
      ]
    },
    {
      "cell_type": "code",
      "metadata": {
        "id": "TFEH-N3rV6Np",
        "colab_type": "code",
        "colab": {}
      },
      "source": [
        "hidden1 = hidden(x, image_size * image_size, 100, \"hidden1\")\n",
        "hidden2 = hidden(hidden1, 100, 150, \"hidden2\")\n",
        "hidden3 = hidden(hidden2, 150, 50, \"hidden3\")\n",
        "hidden4 = hidden(hidden3, 50, 25, \"hidden4\")\n",
        "pred = out_layer(hidden4, 25, num_labels, \"pred\")"
      ],
      "execution_count": 0,
      "outputs": []
    },
    {
      "cell_type": "markdown",
      "metadata": {
        "id": "Cs2cvZqzWO01",
        "colab_type": "text"
      },
      "source": [
        "## **Define the operations**"
      ]
    },
    {
      "cell_type": "code",
      "metadata": {
        "id": "LiePSHUEWR0y",
        "colab_type": "code",
        "outputId": "ea8d7169-3d86-4de1-da36-d8c9f3fdc51f",
        "colab": {
          "base_uri": "https://localhost:8080/",
          "height": 34
        }
      },
      "source": [
        "with tf.name_scope(\"xent\"):\n",
        "    cost = tf.reduce_mean(tf.nn.softmax_cross_entropy_with_logits(logits=pred, labels=y_label))\n",
        "with tf.name_scope(\"accuracy\"):\n",
        "    correct = tf.equal(tf.argmax(pred, 1), tf.argmax(y_label, 1))\n",
        "    accuracy = tf.reduce_mean(tf.cast(correct, tf.float32))\n",
        "tf.summary.scalar('acc', accuracy)\n",
        "tf.summary.scalar('loss', cost)"
      ],
      "execution_count": 108,
      "outputs": [
        {
          "output_type": "execute_result",
          "data": {
            "text/plain": [
              "<tf.Tensor 'loss:0' shape=() dtype=string>"
            ]
          },
          "metadata": {
            "tags": []
          },
          "execution_count": 108
        }
      ]
    },
    {
      "cell_type": "code",
      "metadata": {
        "id": "JoNlEdawWf8U",
        "colab_type": "code",
        "colab": {}
      },
      "source": [
        "with tf.name_scope(\"train\"):\n",
        "    train_step = tf.train.AdamOptimizer(lr).minimize(cost)"
      ],
      "execution_count": 0,
      "outputs": []
    },
    {
      "cell_type": "markdown",
      "metadata": {
        "id": "QtfHBvP3Wrsy",
        "colab_type": "text"
      },
      "source": [
        "## **Start a tensorflow session**"
      ]
    },
    {
      "cell_type": "code",
      "metadata": {
        "id": "q6M6ktvlWuJV",
        "colab_type": "code",
        "colab": {}
      },
      "source": [
        "sess = tf.Session()\n",
        "sess.run(tf.global_variables_initializer())"
      ],
      "execution_count": 0,
      "outputs": []
    },
    {
      "cell_type": "markdown",
      "metadata": {
        "id": "-RVT8CTyW4hx",
        "colab_type": "text"
      },
      "source": [
        "## **Setup the tensorboard parameters**"
      ]
    },
    {
      "cell_type": "code",
      "metadata": {
        "id": "Riy1A1vwW7fr",
        "colab_type": "code",
        "colab": {}
      },
      "source": [
        "summ = tf.summary.merge_all()\n",
        "train_writer = tbc.get_writer()\n",
        "#train_writer = tf.summary.FileWriter(log_dir + 'train/' + run_name)\n",
        "train_writer.add_graph(sess.graph)"
      ],
      "execution_count": 0,
      "outputs": []
    },
    {
      "cell_type": "markdown",
      "metadata": {
        "id": "zM6HbVhdX4eb",
        "colab_type": "text"
      },
      "source": [
        "## **Train the model**"
      ]
    },
    {
      "cell_type": "code",
      "metadata": {
        "id": "-j9M0ePhXSKZ",
        "colab_type": "code",
        "outputId": "96a84c61-984c-4b19-a4b9-0546be19425a",
        "colab": {
          "base_uri": "https://localhost:8080/",
          "height": 175
        }
      },
      "source": [
        "total_train_indexes = len(x_train)\n",
        "for epoch in range(num_of_epochs):\n",
        "    i = 0\n",
        "    epoch_loss = 0\n",
        "    while i < total_train_indexes:\n",
        "        start = i\n",
        "        end = i + batch_size\n",
        "\n",
        "        if end > total_train_indexes:\n",
        "            end = total_train_indexes\n",
        "\n",
        "        batch_dataset = x_train[start:end]\n",
        "        batch_labels = y_train[start:end]\n",
        "\n",
        "        input_dict = {x: batch_dataset, y_label: batch_labels}\n",
        "        _, epoch_accuracy, loss, s = sess.run([train_step, accuracy, cost, summ], feed_dict=input_dict)\n",
        "        epoch_loss += loss\n",
        "        train_writer.add_summary(s, i + total_train_indexes * epoch)\n",
        "        i += batch_size\n",
        "    valid_accuracy, valid_loss = sess.run([accuracy, cost], \n",
        "                                                   feed_dict={x: x_test, \n",
        "                                                              y_label: y_test})  \n",
        "    \n",
        "    print('Epoch', epoch + 1, 'completed out of',num_of_epochs,'train_loss:',epoch_loss, 'train_ccuracy:', epoch_accuracy)\n",
        "    print('Epoch', epoch + 1, 'completed out of',num_of_epochs,'valid_loss:',valid_loss, 'valid_accuracy:', valid_accuracy)\n",
        "    \n",
        "test_accuracy, test_loss = sess.run([accuracy, cost], feed_dict={x: x_test, y_label: y_test})\n",
        "\n",
        "print(\"Test accuracy:\", test_accuracy, \"Test loss:\", test_loss)"
      ],
      "execution_count": 112,
      "outputs": [
        {
          "output_type": "stream",
          "text": [
            "Epoch 1 completed out of 4 train_loss: 893.8849964886904 train_ccuracy: 0.82\n",
            "Epoch 1 completed out of 4 valid_loss: 0.5135463 valid_accuracy: 0.8109\n",
            "Epoch 2 completed out of 4 train_loss: 590.7147527784109 train_ccuracy: 0.86\n",
            "Epoch 2 completed out of 4 valid_loss: 0.5334833 valid_accuracy: 0.8124\n",
            "Epoch 3 completed out of 4 train_loss: 546.2189397513866 train_ccuracy: 0.86\n",
            "Epoch 3 completed out of 4 valid_loss: 0.5025665 valid_accuracy: 0.8259\n",
            "Epoch 4 completed out of 4 train_loss: 502.4646100252867 train_ccuracy: 0.84\n",
            "Epoch 4 completed out of 4 valid_loss: 0.49323618 valid_accuracy: 0.8284\n",
            "Test accuracy: 0.8284 Test loss: 0.49323618\n"
          ],
          "name": "stdout"
        }
      ]
    }
  ]
}