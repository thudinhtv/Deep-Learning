{
  "nbformat": 4,
  "nbformat_minor": 0,
  "metadata": {
    "colab": {
      "name": "Keras_Mnist_Fashion_DNN_Model 4.ipynb",
      "provenance": [],
      "collapsed_sections": [],
      "toc_visible": true
    },
    "kernelspec": {
      "name": "python3",
      "display_name": "Python 3"
    }
  },
  "cells": [
    {
      "cell_type": "code",
      "metadata": {
        "id": "Gj12sQWRZNAT",
        "colab_type": "code",
        "colab": {}
      },
      "source": [
        "from keras.models import Sequential\n",
        "from keras.layers.core import Dense\n",
        "from keras import optimizers\n",
        "from keras import callbacks"
      ],
      "execution_count": 0,
      "outputs": []
    },
    {
      "cell_type": "code",
      "metadata": {
        "id": "iGsmt1h9aE7u",
        "colab_type": "code",
        "outputId": "178803b3-93d3-4331-a363-baa7c7b099f8",
        "colab": {
          "base_uri": "https://localhost:8080/",
          "height": 68
        }
      },
      "source": [
        "from tensorboardcolab import TensorBoardColab, TensorBoardColabCallback\n",
        "\n",
        "tbc=TensorBoardColab()"
      ],
      "execution_count": 9,
      "outputs": [
        {
          "output_type": "stream",
          "text": [
            "Wait for 8 seconds...\n",
            "TensorBoard link:\n",
            "https://dbd9308b.ngrok.io\n"
          ],
          "name": "stdout"
        }
      ]
    },
    {
      "cell_type": "markdown",
      "metadata": {
        "id": "htORZ4HgZaPk",
        "colab_type": "text"
      },
      "source": [
        "## **Get and inpect data**"
      ]
    },
    {
      "cell_type": "code",
      "metadata": {
        "id": "5g4kXZGgZcy9",
        "colab_type": "code",
        "outputId": "36055370-3ec3-4f9e-aad0-bb9abf324533",
        "colab": {
          "base_uri": "https://localhost:8080/",
          "height": 85
        }
      },
      "source": [
        "from tensorflow.examples.tutorials.mnist import input_data\n",
        "mnist_fashion = input_data.read_data_sets(\"/notebooks/data/fashion_mnist/\", one_hot=True)"
      ],
      "execution_count": 10,
      "outputs": [
        {
          "output_type": "stream",
          "text": [
            "Extracting /notebooks/data/fashion_mnist/train-images-idx3-ubyte.gz\n",
            "Extracting /notebooks/data/fashion_mnist/train-labels-idx1-ubyte.gz\n",
            "Extracting /notebooks/data/fashion_mnist/t10k-images-idx3-ubyte.gz\n",
            "Extracting /notebooks/data/fashion_mnist/t10k-labels-idx1-ubyte.gz\n"
          ],
          "name": "stdout"
        }
      ]
    },
    {
      "cell_type": "code",
      "metadata": {
        "id": "93JrqLWUZnuA",
        "colab_type": "code",
        "outputId": "eb67c798-05a3-446a-f024-02e16aba3962",
        "colab": {
          "base_uri": "https://localhost:8080/",
          "height": 85
        }
      },
      "source": [
        "print(mnist_fashion.validation.labels[:1])\n",
        "print('Training set', mnist_fashion.train.images.shape, mnist_fashion.train.labels.shape)\n",
        "print('Validation set', mnist_fashion.validation.images.shape, mnist_fashion.validation.labels.shape)\n",
        "print('Test set', mnist_fashion.test.images.shape, mnist_fashion.test.labels.shape)"
      ],
      "execution_count": 11,
      "outputs": [
        {
          "output_type": "stream",
          "text": [
            "[[0. 0. 0. 0. 0. 1. 0. 0. 0. 0.]]\n",
            "Training set (55000, 784) (55000, 10)\n",
            "Validation set (5000, 784) (5000, 10)\n",
            "Test set (10000, 784) (10000, 10)\n"
          ],
          "name": "stdout"
        }
      ]
    },
    {
      "cell_type": "markdown",
      "metadata": {
        "id": "sO8tZJT4ZtFY",
        "colab_type": "text"
      },
      "source": [
        "## **Build model**"
      ]
    },
    {
      "cell_type": "code",
      "metadata": {
        "id": "bnlgJq_HZvjm",
        "colab_type": "code",
        "outputId": "0e8eb372-0a20-4f8a-c2c6-97744545b786",
        "colab": {
          "base_uri": "https://localhost:8080/",
          "height": 323
        }
      },
      "source": [
        "model = Sequential()\n",
        "model.add(Dense(100, activation='relu', input_shape=(784,)))\n",
        "model.add(Dense(150, activation='relu'))\n",
        "model.add(Dense(50, activation='relu'))\n",
        "model.add(Dense(25, activation='relu'))\n",
        "model.add(Dense(10, activation='softmax'))\n",
        "model.summary()"
      ],
      "execution_count": 18,
      "outputs": [
        {
          "output_type": "stream",
          "text": [
            "Model: \"sequential_5\"\n",
            "_________________________________________________________________\n",
            "Layer (type)                 Output Shape              Param #   \n",
            "=================================================================\n",
            "dense_23 (Dense)             (None, 100)               78500     \n",
            "_________________________________________________________________\n",
            "dense_24 (Dense)             (None, 150)               15150     \n",
            "_________________________________________________________________\n",
            "dense_25 (Dense)             (None, 50)                7550      \n",
            "_________________________________________________________________\n",
            "dense_26 (Dense)             (None, 25)                1275      \n",
            "_________________________________________________________________\n",
            "dense_27 (Dense)             (None, 10)                260       \n",
            "=================================================================\n",
            "Total params: 102,735\n",
            "Trainable params: 102,735\n",
            "Non-trainable params: 0\n",
            "_________________________________________________________________\n"
          ],
          "name": "stdout"
        }
      ]
    },
    {
      "cell_type": "markdown",
      "metadata": {
        "id": "9OYLJzqCakLX",
        "colab_type": "text"
      },
      "source": [
        "## **Setup the tensorboard parameters**"
      ]
    },
    {
      "cell_type": "code",
      "metadata": {
        "id": "EzMGN38saorW",
        "colab_type": "code",
        "colab": {}
      },
      "source": [
        "#Just include the callback in the training module below"
      ],
      "execution_count": 0,
      "outputs": []
    },
    {
      "cell_type": "markdown",
      "metadata": {
        "id": "Bp5BcAmVZ9kj",
        "colab_type": "text"
      },
      "source": [
        "## **Choose loss function and optimizer**"
      ]
    },
    {
      "cell_type": "code",
      "metadata": {
        "id": "FoM1J3p5aAUz",
        "colab_type": "code",
        "colab": {}
      },
      "source": [
        "adam = optimizers.Adam(lr=.01)\n",
        "model.compile(loss='categorical_crossentropy', metrics=['accuracy'], optimizer=adam)"
      ],
      "execution_count": 0,
      "outputs": []
    },
    {
      "cell_type": "code",
      "metadata": {
        "id": "jSGB69YCa9cv",
        "colab_type": "code",
        "colab": {}
      },
      "source": [
        ""
      ],
      "execution_count": 0,
      "outputs": []
    },
    {
      "cell_type": "markdown",
      "metadata": {
        "id": "TvwUL50Ya-UI",
        "colab_type": "text"
      },
      "source": [
        "## **Train model**"
      ]
    },
    {
      "cell_type": "code",
      "metadata": {
        "id": "9xreLYjUbA2b",
        "colab_type": "code",
        "outputId": "20f74b1c-f35b-4af0-ee68-160e5db8794c",
        "colab": {
          "base_uri": "https://localhost:8080/",
          "height": 170
        }
      },
      "source": [
        "network_history = model.fit(mnist_fashion.train.images, mnist_fashion.train.labels, batch_size=50, epochs=4, verbose=1,\n",
        "                            validation_data=(mnist_fashion.validation.images, mnist_fashion.validation.labels), callbacks=[TensorBoardColabCallback(tbc)])"
      ],
      "execution_count": 20,
      "outputs": [
        {
          "output_type": "stream",
          "text": [
            "Train on 55000 samples, validate on 5000 samples\n",
            "Epoch 1/4\n",
            "55000/55000 [==============================] - 5s 95us/step - loss: 0.4198 - acc: 0.8710 - val_loss: 0.2787 - val_acc: 0.9270\n",
            "Epoch 2/4\n",
            "55000/55000 [==============================] - 5s 88us/step - loss: 0.1989 - acc: 0.9479 - val_loss: 0.1638 - val_acc: 0.9616\n",
            "Epoch 3/4\n",
            "55000/55000 [==============================] - 5s 88us/step - loss: 0.1738 - acc: 0.9560 - val_loss: 0.1724 - val_acc: 0.9558\n",
            "Epoch 4/4\n",
            "55000/55000 [==============================] - 5s 88us/step - loss: 0.1625 - acc: 0.9604 - val_loss: 0.1757 - val_acc: 0.9608\n"
          ],
          "name": "stdout"
        }
      ]
    }
  ]
}